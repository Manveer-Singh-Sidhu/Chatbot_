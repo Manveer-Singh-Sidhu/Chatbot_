{
 "cells": [
  {
   "cell_type": "code",
   "execution_count": null,
   "id": "initial_id",
   "metadata": {
    "collapsed": true,
    "is_executing": true
   },
   "outputs": [],
   "source": [
    "import streamlit as st\n",
    "\n",
    "st.title(\"Simple Form\")\n",
    "\n",
    "name = st.text_input(\"Enter your name\")\n",
    "age = st.number_input(\"Enter your age\", min_value=0, max_value=120)\n",
    "submit = st.button(\"Submit\")\n",
    "\n",
    "if submit:\n",
    "  st.write(\"Name:\", name)\n",
    "  st.write(\"Age:\", age)\n"
   ]
  },
  {
   "cell_type": "code",
   "outputs": [],
   "source": [],
   "metadata": {
    "collapsed": false
   },
   "id": "8d5570b0882a557a"
  }
 ],
 "metadata": {
  "kernelspec": {
   "display_name": "Python 3",
   "language": "python",
   "name": "python3"
  },
  "language_info": {
   "codemirror_mode": {
    "name": "ipython",
    "version": 2
   },
   "file_extension": ".py",
   "mimetype": "text/x-python",
   "name": "python",
   "nbconvert_exporter": "python",
   "pygments_lexer": "ipython2",
   "version": "2.7.6"
  }
 },
 "nbformat": 4,
 "nbformat_minor": 5
}
